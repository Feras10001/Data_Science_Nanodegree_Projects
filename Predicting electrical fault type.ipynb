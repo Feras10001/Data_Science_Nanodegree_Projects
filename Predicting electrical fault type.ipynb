{
 "cells": [
  {
   "cell_type": "code",
   "execution_count": 125,
   "id": "behind-terrorism",
   "metadata": {},
   "outputs": [],
   "source": [
    "import pandas as pd\n",
    "import numpy as np\n",
    "import matplotlib.pyplot as plt\n",
    "import seaborn as sns"
   ]
  },
  {
   "cell_type": "code",
   "execution_count": 183,
   "id": "controversial-malawi",
   "metadata": {},
   "outputs": [
    {
     "data": {
      "text/html": [
       "<div>\n",
       "<style scoped>\n",
       "    .dataframe tbody tr th:only-of-type {\n",
       "        vertical-align: middle;\n",
       "    }\n",
       "\n",
       "    .dataframe tbody tr th {\n",
       "        vertical-align: top;\n",
       "    }\n",
       "\n",
       "    .dataframe thead th {\n",
       "        text-align: right;\n",
       "    }\n",
       "</style>\n",
       "<table border=\"1\" class=\"dataframe\">\n",
       "  <thead>\n",
       "    <tr style=\"text-align: right;\">\n",
       "      <th></th>\n",
       "      <th>G</th>\n",
       "      <th>C</th>\n",
       "      <th>B</th>\n",
       "      <th>A</th>\n",
       "      <th>Ia</th>\n",
       "      <th>Ib</th>\n",
       "      <th>Ic</th>\n",
       "      <th>Va</th>\n",
       "      <th>Vb</th>\n",
       "      <th>Vc</th>\n",
       "    </tr>\n",
       "  </thead>\n",
       "  <tbody>\n",
       "    <tr>\n",
       "      <th>0</th>\n",
       "      <td>1</td>\n",
       "      <td>0</td>\n",
       "      <td>0</td>\n",
       "      <td>1</td>\n",
       "      <td>-151.291812</td>\n",
       "      <td>-9.677452</td>\n",
       "      <td>85.800162</td>\n",
       "      <td>0.400750</td>\n",
       "      <td>-0.132935</td>\n",
       "      <td>-0.267815</td>\n",
       "    </tr>\n",
       "    <tr>\n",
       "      <th>1</th>\n",
       "      <td>1</td>\n",
       "      <td>0</td>\n",
       "      <td>0</td>\n",
       "      <td>1</td>\n",
       "      <td>-336.186183</td>\n",
       "      <td>-76.283262</td>\n",
       "      <td>18.328897</td>\n",
       "      <td>0.312732</td>\n",
       "      <td>-0.123633</td>\n",
       "      <td>-0.189099</td>\n",
       "    </tr>\n",
       "    <tr>\n",
       "      <th>2</th>\n",
       "      <td>1</td>\n",
       "      <td>0</td>\n",
       "      <td>0</td>\n",
       "      <td>1</td>\n",
       "      <td>-502.891583</td>\n",
       "      <td>-174.648023</td>\n",
       "      <td>-80.924663</td>\n",
       "      <td>0.265728</td>\n",
       "      <td>-0.114301</td>\n",
       "      <td>-0.151428</td>\n",
       "    </tr>\n",
       "    <tr>\n",
       "      <th>3</th>\n",
       "      <td>1</td>\n",
       "      <td>0</td>\n",
       "      <td>0</td>\n",
       "      <td>1</td>\n",
       "      <td>-593.941905</td>\n",
       "      <td>-217.703359</td>\n",
       "      <td>-124.891924</td>\n",
       "      <td>0.235511</td>\n",
       "      <td>-0.104940</td>\n",
       "      <td>-0.130570</td>\n",
       "    </tr>\n",
       "    <tr>\n",
       "      <th>4</th>\n",
       "      <td>1</td>\n",
       "      <td>0</td>\n",
       "      <td>0</td>\n",
       "      <td>1</td>\n",
       "      <td>-643.663617</td>\n",
       "      <td>-224.159427</td>\n",
       "      <td>-132.282815</td>\n",
       "      <td>0.209537</td>\n",
       "      <td>-0.095554</td>\n",
       "      <td>-0.113983</td>\n",
       "    </tr>\n",
       "  </tbody>\n",
       "</table>\n",
       "</div>"
      ],
      "text/plain": [
       "   G  C  B  A          Ia          Ib          Ic        Va        Vb  \\\n",
       "0  1  0  0  1 -151.291812   -9.677452   85.800162  0.400750 -0.132935   \n",
       "1  1  0  0  1 -336.186183  -76.283262   18.328897  0.312732 -0.123633   \n",
       "2  1  0  0  1 -502.891583 -174.648023  -80.924663  0.265728 -0.114301   \n",
       "3  1  0  0  1 -593.941905 -217.703359 -124.891924  0.235511 -0.104940   \n",
       "4  1  0  0  1 -643.663617 -224.159427 -132.282815  0.209537 -0.095554   \n",
       "\n",
       "         Vc  \n",
       "0 -0.267815  \n",
       "1 -0.189099  \n",
       "2 -0.151428  \n",
       "3 -0.130570  \n",
       "4 -0.113983  "
      ]
     },
     "execution_count": 183,
     "metadata": {},
     "output_type": "execute_result"
    }
   ],
   "source": [
    "df = pd.read_csv(\"classData.csv\")\n",
    "df.head()"
   ]
  },
  {
   "cell_type": "code",
   "execution_count": 184,
   "id": "disabled-cathedral",
   "metadata": {},
   "outputs": [
    {
     "name": "stdout",
     "output_type": "stream",
     "text": [
      "<class 'pandas.core.frame.DataFrame'>\n",
      "RangeIndex: 7861 entries, 0 to 7860\n",
      "Data columns (total 10 columns):\n",
      " #   Column  Non-Null Count  Dtype  \n",
      "---  ------  --------------  -----  \n",
      " 0   G       7861 non-null   int64  \n",
      " 1   C       7861 non-null   int64  \n",
      " 2   B       7861 non-null   int64  \n",
      " 3   A       7861 non-null   int64  \n",
      " 4   Ia      7861 non-null   float64\n",
      " 5   Ib      7861 non-null   float64\n",
      " 6   Ic      7861 non-null   float64\n",
      " 7   Va      7861 non-null   float64\n",
      " 8   Vb      7861 non-null   float64\n",
      " 9   Vc      7861 non-null   float64\n",
      "dtypes: float64(6), int64(4)\n",
      "memory usage: 614.3 KB\n"
     ]
    }
   ],
   "source": [
    "df.info() #as shown below there are no missing values"
   ]
  },
  {
   "cell_type": "code",
   "execution_count": 185,
   "id": "inappropriate-sword",
   "metadata": {},
   "outputs": [],
   "source": [
    "df['Fault_Code'] = df['G'].apply(str) + df['C'].apply(str) +df['B'].apply(str) + df['A'].apply(str) #To create a code to distinguish fault type"
   ]
  },
  {
   "cell_type": "code",
   "execution_count": 186,
   "id": "extensive-julian",
   "metadata": {},
   "outputs": [
    {
     "data": {
      "text/html": [
       "<div>\n",
       "<style scoped>\n",
       "    .dataframe tbody tr th:only-of-type {\n",
       "        vertical-align: middle;\n",
       "    }\n",
       "\n",
       "    .dataframe tbody tr th {\n",
       "        vertical-align: top;\n",
       "    }\n",
       "\n",
       "    .dataframe thead th {\n",
       "        text-align: right;\n",
       "    }\n",
       "</style>\n",
       "<table border=\"1\" class=\"dataframe\">\n",
       "  <thead>\n",
       "    <tr style=\"text-align: right;\">\n",
       "      <th></th>\n",
       "      <th>G</th>\n",
       "      <th>C</th>\n",
       "      <th>B</th>\n",
       "      <th>A</th>\n",
       "      <th>Ia</th>\n",
       "      <th>Ib</th>\n",
       "      <th>Ic</th>\n",
       "      <th>Va</th>\n",
       "      <th>Vb</th>\n",
       "      <th>Vc</th>\n",
       "      <th>Fault_Code</th>\n",
       "    </tr>\n",
       "  </thead>\n",
       "  <tbody>\n",
       "    <tr>\n",
       "      <th>5496</th>\n",
       "      <td>0</td>\n",
       "      <td>0</td>\n",
       "      <td>0</td>\n",
       "      <td>0</td>\n",
       "      <td>61.806321</td>\n",
       "      <td>-22.861987</td>\n",
       "      <td>21.102428</td>\n",
       "      <td>0.366320</td>\n",
       "      <td>-0.567179</td>\n",
       "      <td>0.200859</td>\n",
       "      <td>0000</td>\n",
       "    </tr>\n",
       "    <tr>\n",
       "      <th>5497</th>\n",
       "      <td>0</td>\n",
       "      <td>0</td>\n",
       "      <td>0</td>\n",
       "      <td>0</td>\n",
       "      <td>48.041678</td>\n",
       "      <td>-23.401108</td>\n",
       "      <td>21.273066</td>\n",
       "      <td>0.367341</td>\n",
       "      <td>-0.564257</td>\n",
       "      <td>0.196916</td>\n",
       "      <td>0000</td>\n",
       "    </tr>\n",
       "    <tr>\n",
       "      <th>5498</th>\n",
       "      <td>0</td>\n",
       "      <td>0</td>\n",
       "      <td>0</td>\n",
       "      <td>0</td>\n",
       "      <td>34.256533</td>\n",
       "      <td>-23.909263</td>\n",
       "      <td>21.408047</td>\n",
       "      <td>0.368258</td>\n",
       "      <td>-0.561168</td>\n",
       "      <td>0.192910</td>\n",
       "      <td>0000</td>\n",
       "    </tr>\n",
       "    <tr>\n",
       "      <th>5499</th>\n",
       "      <td>0</td>\n",
       "      <td>0</td>\n",
       "      <td>0</td>\n",
       "      <td>0</td>\n",
       "      <td>20.464350</td>\n",
       "      <td>-24.396165</td>\n",
       "      <td>21.501503</td>\n",
       "      <td>0.369086</td>\n",
       "      <td>-0.557916</td>\n",
       "      <td>0.188830</td>\n",
       "      <td>0000</td>\n",
       "    </tr>\n",
       "    <tr>\n",
       "      <th>5500</th>\n",
       "      <td>0</td>\n",
       "      <td>0</td>\n",
       "      <td>0</td>\n",
       "      <td>0</td>\n",
       "      <td>7.109677</td>\n",
       "      <td>-25.075888</td>\n",
       "      <td>21.341967</td>\n",
       "      <td>0.370321</td>\n",
       "      <td>-0.554505</td>\n",
       "      <td>0.184184</td>\n",
       "      <td>0000</td>\n",
       "    </tr>\n",
       "    <tr>\n",
       "      <th>...</th>\n",
       "      <td>...</td>\n",
       "      <td>...</td>\n",
       "      <td>...</td>\n",
       "      <td>...</td>\n",
       "      <td>...</td>\n",
       "      <td>...</td>\n",
       "      <td>...</td>\n",
       "      <td>...</td>\n",
       "      <td>...</td>\n",
       "      <td>...</td>\n",
       "      <td>...</td>\n",
       "    </tr>\n",
       "    <tr>\n",
       "      <th>7856</th>\n",
       "      <td>0</td>\n",
       "      <td>0</td>\n",
       "      <td>0</td>\n",
       "      <td>0</td>\n",
       "      <td>-66.237921</td>\n",
       "      <td>38.457041</td>\n",
       "      <td>24.912239</td>\n",
       "      <td>0.094421</td>\n",
       "      <td>-0.552019</td>\n",
       "      <td>0.457598</td>\n",
       "      <td>0000</td>\n",
       "    </tr>\n",
       "    <tr>\n",
       "      <th>7857</th>\n",
       "      <td>0</td>\n",
       "      <td>0</td>\n",
       "      <td>0</td>\n",
       "      <td>0</td>\n",
       "      <td>-65.849493</td>\n",
       "      <td>37.465454</td>\n",
       "      <td>25.515675</td>\n",
       "      <td>0.103778</td>\n",
       "      <td>-0.555186</td>\n",
       "      <td>0.451407</td>\n",
       "      <td>0000</td>\n",
       "    </tr>\n",
       "    <tr>\n",
       "      <th>7858</th>\n",
       "      <td>0</td>\n",
       "      <td>0</td>\n",
       "      <td>0</td>\n",
       "      <td>0</td>\n",
       "      <td>-65.446698</td>\n",
       "      <td>36.472055</td>\n",
       "      <td>26.106554</td>\n",
       "      <td>0.113107</td>\n",
       "      <td>-0.558211</td>\n",
       "      <td>0.445104</td>\n",
       "      <td>0000</td>\n",
       "    </tr>\n",
       "    <tr>\n",
       "      <th>7859</th>\n",
       "      <td>0</td>\n",
       "      <td>0</td>\n",
       "      <td>0</td>\n",
       "      <td>0</td>\n",
       "      <td>-65.029633</td>\n",
       "      <td>35.477088</td>\n",
       "      <td>26.684731</td>\n",
       "      <td>0.122404</td>\n",
       "      <td>-0.561094</td>\n",
       "      <td>0.438690</td>\n",
       "      <td>0000</td>\n",
       "    </tr>\n",
       "    <tr>\n",
       "      <th>7860</th>\n",
       "      <td>0</td>\n",
       "      <td>0</td>\n",
       "      <td>0</td>\n",
       "      <td>0</td>\n",
       "      <td>-64.598401</td>\n",
       "      <td>34.480799</td>\n",
       "      <td>27.250065</td>\n",
       "      <td>0.131669</td>\n",
       "      <td>-0.563835</td>\n",
       "      <td>0.432166</td>\n",
       "      <td>0000</td>\n",
       "    </tr>\n",
       "  </tbody>\n",
       "</table>\n",
       "<p>2365 rows × 11 columns</p>\n",
       "</div>"
      ],
      "text/plain": [
       "      G  C  B  A         Ia         Ib         Ic        Va        Vb  \\\n",
       "5496  0  0  0  0  61.806321 -22.861987  21.102428  0.366320 -0.567179   \n",
       "5497  0  0  0  0  48.041678 -23.401108  21.273066  0.367341 -0.564257   \n",
       "5498  0  0  0  0  34.256533 -23.909263  21.408047  0.368258 -0.561168   \n",
       "5499  0  0  0  0  20.464350 -24.396165  21.501503  0.369086 -0.557916   \n",
       "5500  0  0  0  0   7.109677 -25.075888  21.341967  0.370321 -0.554505   \n",
       "...  .. .. .. ..        ...        ...        ...       ...       ...   \n",
       "7856  0  0  0  0 -66.237921  38.457041  24.912239  0.094421 -0.552019   \n",
       "7857  0  0  0  0 -65.849493  37.465454  25.515675  0.103778 -0.555186   \n",
       "7858  0  0  0  0 -65.446698  36.472055  26.106554  0.113107 -0.558211   \n",
       "7859  0  0  0  0 -65.029633  35.477088  26.684731  0.122404 -0.561094   \n",
       "7860  0  0  0  0 -64.598401  34.480799  27.250065  0.131669 -0.563835   \n",
       "\n",
       "            Vc Fault_Code  \n",
       "5496  0.200859       0000  \n",
       "5497  0.196916       0000  \n",
       "5498  0.192910       0000  \n",
       "5499  0.188830       0000  \n",
       "5500  0.184184       0000  \n",
       "...        ...        ...  \n",
       "7856  0.457598       0000  \n",
       "7857  0.451407       0000  \n",
       "7858  0.445104       0000  \n",
       "7859  0.438690       0000  \n",
       "7860  0.432166       0000  \n",
       "\n",
       "[2365 rows x 11 columns]"
      ]
     },
     "execution_count": 186,
     "metadata": {},
     "output_type": "execute_result"
    }
   ],
   "source": [
    "df[df['Fault_Code'] == '0000'] #to verify that our new column output is as expected"
   ]
  },
  {
   "cell_type": "code",
   "execution_count": 187,
   "id": "figured-redhead",
   "metadata": {},
   "outputs": [],
   "source": [
    "fault_class = [] #creating fault classes for classification models\n",
    "for value in df.Fault_Code.values:\n",
    "    if value == '1111' or value == '0111':\n",
    "        fault_class.append('3 phase fault')\n",
    "    if value == '1001' or value == '1010' or value == '1100' :\n",
    "        fault_class.append('single phase to ground fault')\n",
    "    if value == '1011' or value == '1110' or value == '1101' :\n",
    "        fault_class.append('double phase to ground fault')\n",
    "    if value == '0011' or value == '0110' or value == '0101' :\n",
    "        fault_class.append('double phase fault')\n",
    "    if value == '0000':\n",
    "        fault_class.append('no fault')"
   ]
  },
  {
   "cell_type": "code",
   "execution_count": 47,
   "id": "pharmaceutical-silence",
   "metadata": {},
   "outputs": [
    {
     "data": {
      "text/plain": [
       "7861"
      ]
     },
     "execution_count": 47,
     "metadata": {},
     "output_type": "execute_result"
    }
   ],
   "source": [
    "len(fault_class)"
   ]
  },
  {
   "cell_type": "code",
   "execution_count": 188,
   "id": "related-customs",
   "metadata": {},
   "outputs": [],
   "source": [
    "df['fault_class'] = fault_class"
   ]
  },
  {
   "cell_type": "code",
   "execution_count": 190,
   "id": "sitting-wednesday",
   "metadata": {},
   "outputs": [
    {
     "data": {
      "text/html": [
       "<div>\n",
       "<style scoped>\n",
       "    .dataframe tbody tr th:only-of-type {\n",
       "        vertical-align: middle;\n",
       "    }\n",
       "\n",
       "    .dataframe tbody tr th {\n",
       "        vertical-align: top;\n",
       "    }\n",
       "\n",
       "    .dataframe thead th {\n",
       "        text-align: right;\n",
       "    }\n",
       "</style>\n",
       "<table border=\"1\" class=\"dataframe\">\n",
       "  <thead>\n",
       "    <tr style=\"text-align: right;\">\n",
       "      <th></th>\n",
       "      <th>G</th>\n",
       "      <th>C</th>\n",
       "      <th>B</th>\n",
       "      <th>A</th>\n",
       "      <th>Ia</th>\n",
       "      <th>Ib</th>\n",
       "      <th>Ic</th>\n",
       "      <th>Va</th>\n",
       "      <th>Vb</th>\n",
       "      <th>Vc</th>\n",
       "      <th>Fault_Code</th>\n",
       "      <th>fault_class</th>\n",
       "    </tr>\n",
       "  </thead>\n",
       "  <tbody>\n",
       "    <tr>\n",
       "      <th>5000</th>\n",
       "      <td>1</td>\n",
       "      <td>1</td>\n",
       "      <td>1</td>\n",
       "      <td>1</td>\n",
       "      <td>883.607328</td>\n",
       "      <td>-439.319890</td>\n",
       "      <td>-444.289702</td>\n",
       "      <td>0.019758</td>\n",
       "      <td>-0.042281</td>\n",
       "      <td>0.022523</td>\n",
       "      <td>1111</td>\n",
       "      <td>3 phase fault</td>\n",
       "    </tr>\n",
       "    <tr>\n",
       "      <th>5001</th>\n",
       "      <td>1</td>\n",
       "      <td>1</td>\n",
       "      <td>1</td>\n",
       "      <td>1</td>\n",
       "      <td>883.449285</td>\n",
       "      <td>-427.221988</td>\n",
       "      <td>-456.229560</td>\n",
       "      <td>0.020343</td>\n",
       "      <td>-0.042300</td>\n",
       "      <td>0.021957</td>\n",
       "      <td>1111</td>\n",
       "      <td>3 phase fault</td>\n",
       "    </tr>\n",
       "    <tr>\n",
       "      <th>5002</th>\n",
       "      <td>1</td>\n",
       "      <td>1</td>\n",
       "      <td>1</td>\n",
       "      <td>1</td>\n",
       "      <td>883.073272</td>\n",
       "      <td>-415.018734</td>\n",
       "      <td>-468.056801</td>\n",
       "      <td>0.020924</td>\n",
       "      <td>-0.042310</td>\n",
       "      <td>0.021385</td>\n",
       "      <td>1111</td>\n",
       "      <td>3 phase fault</td>\n",
       "    </tr>\n",
       "    <tr>\n",
       "      <th>5003</th>\n",
       "      <td>1</td>\n",
       "      <td>1</td>\n",
       "      <td>1</td>\n",
       "      <td>1</td>\n",
       "      <td>882.479381</td>\n",
       "      <td>-402.713139</td>\n",
       "      <td>-479.768506</td>\n",
       "      <td>0.021500</td>\n",
       "      <td>-0.042309</td>\n",
       "      <td>0.020809</td>\n",
       "      <td>1111</td>\n",
       "      <td>3 phase fault</td>\n",
       "    </tr>\n",
       "    <tr>\n",
       "      <th>5004</th>\n",
       "      <td>1</td>\n",
       "      <td>1</td>\n",
       "      <td>1</td>\n",
       "      <td>1</td>\n",
       "      <td>881.667761</td>\n",
       "      <td>-390.308238</td>\n",
       "      <td>-491.361786</td>\n",
       "      <td>0.022070</td>\n",
       "      <td>-0.042297</td>\n",
       "      <td>0.020227</td>\n",
       "      <td>1111</td>\n",
       "      <td>3 phase fault</td>\n",
       "    </tr>\n",
       "    <tr>\n",
       "      <th>...</th>\n",
       "      <td>...</td>\n",
       "      <td>...</td>\n",
       "      <td>...</td>\n",
       "      <td>...</td>\n",
       "      <td>...</td>\n",
       "      <td>...</td>\n",
       "      <td>...</td>\n",
       "      <td>...</td>\n",
       "      <td>...</td>\n",
       "      <td>...</td>\n",
       "      <td>...</td>\n",
       "      <td>...</td>\n",
       "    </tr>\n",
       "    <tr>\n",
       "      <th>5495</th>\n",
       "      <td>1</td>\n",
       "      <td>1</td>\n",
       "      <td>1</td>\n",
       "      <td>1</td>\n",
       "      <td>75.540847</td>\n",
       "      <td>-22.278939</td>\n",
       "      <td>20.903750</td>\n",
       "      <td>0.365181</td>\n",
       "      <td>-0.569928</td>\n",
       "      <td>0.204747</td>\n",
       "      <td>1111</td>\n",
       "      <td>3 phase fault</td>\n",
       "    </tr>\n",
       "    <tr>\n",
       "      <th>5496</th>\n",
       "      <td>0</td>\n",
       "      <td>0</td>\n",
       "      <td>0</td>\n",
       "      <td>0</td>\n",
       "      <td>61.806321</td>\n",
       "      <td>-22.861987</td>\n",
       "      <td>21.102428</td>\n",
       "      <td>0.366320</td>\n",
       "      <td>-0.567179</td>\n",
       "      <td>0.200859</td>\n",
       "      <td>0000</td>\n",
       "      <td>no fault</td>\n",
       "    </tr>\n",
       "    <tr>\n",
       "      <th>5497</th>\n",
       "      <td>0</td>\n",
       "      <td>0</td>\n",
       "      <td>0</td>\n",
       "      <td>0</td>\n",
       "      <td>48.041678</td>\n",
       "      <td>-23.401108</td>\n",
       "      <td>21.273066</td>\n",
       "      <td>0.367341</td>\n",
       "      <td>-0.564257</td>\n",
       "      <td>0.196916</td>\n",
       "      <td>0000</td>\n",
       "      <td>no fault</td>\n",
       "    </tr>\n",
       "    <tr>\n",
       "      <th>5498</th>\n",
       "      <td>0</td>\n",
       "      <td>0</td>\n",
       "      <td>0</td>\n",
       "      <td>0</td>\n",
       "      <td>34.256533</td>\n",
       "      <td>-23.909263</td>\n",
       "      <td>21.408047</td>\n",
       "      <td>0.368258</td>\n",
       "      <td>-0.561168</td>\n",
       "      <td>0.192910</td>\n",
       "      <td>0000</td>\n",
       "      <td>no fault</td>\n",
       "    </tr>\n",
       "    <tr>\n",
       "      <th>5499</th>\n",
       "      <td>0</td>\n",
       "      <td>0</td>\n",
       "      <td>0</td>\n",
       "      <td>0</td>\n",
       "      <td>20.464350</td>\n",
       "      <td>-24.396165</td>\n",
       "      <td>21.501503</td>\n",
       "      <td>0.369086</td>\n",
       "      <td>-0.557916</td>\n",
       "      <td>0.188830</td>\n",
       "      <td>0000</td>\n",
       "      <td>no fault</td>\n",
       "    </tr>\n",
       "  </tbody>\n",
       "</table>\n",
       "<p>500 rows × 12 columns</p>\n",
       "</div>"
      ],
      "text/plain": [
       "      G  C  B  A          Ia          Ib          Ic        Va        Vb  \\\n",
       "5000  1  1  1  1  883.607328 -439.319890 -444.289702  0.019758 -0.042281   \n",
       "5001  1  1  1  1  883.449285 -427.221988 -456.229560  0.020343 -0.042300   \n",
       "5002  1  1  1  1  883.073272 -415.018734 -468.056801  0.020924 -0.042310   \n",
       "5003  1  1  1  1  882.479381 -402.713139 -479.768506  0.021500 -0.042309   \n",
       "5004  1  1  1  1  881.667761 -390.308238 -491.361786  0.022070 -0.042297   \n",
       "...  .. .. .. ..         ...         ...         ...       ...       ...   \n",
       "5495  1  1  1  1   75.540847  -22.278939   20.903750  0.365181 -0.569928   \n",
       "5496  0  0  0  0   61.806321  -22.861987   21.102428  0.366320 -0.567179   \n",
       "5497  0  0  0  0   48.041678  -23.401108   21.273066  0.367341 -0.564257   \n",
       "5498  0  0  0  0   34.256533  -23.909263   21.408047  0.368258 -0.561168   \n",
       "5499  0  0  0  0   20.464350  -24.396165   21.501503  0.369086 -0.557916   \n",
       "\n",
       "            Vc Fault_Code    fault_class  \n",
       "5000  0.022523       1111  3 phase fault  \n",
       "5001  0.021957       1111  3 phase fault  \n",
       "5002  0.021385       1111  3 phase fault  \n",
       "5003  0.020809       1111  3 phase fault  \n",
       "5004  0.020227       1111  3 phase fault  \n",
       "...        ...        ...            ...  \n",
       "5495  0.204747       1111  3 phase fault  \n",
       "5496  0.200859       0000       no fault  \n",
       "5497  0.196916       0000       no fault  \n",
       "5498  0.192910       0000       no fault  \n",
       "5499  0.188830       0000       no fault  \n",
       "\n",
       "[500 rows x 12 columns]"
      ]
     },
     "execution_count": 190,
     "metadata": {},
     "output_type": "execute_result"
    }
   ],
   "source": [
    "df.iloc[5000:5500, :] #to check that the added column has the correct value"
   ]
  },
  {
   "cell_type": "code",
   "execution_count": 192,
   "id": "experienced-outdoors",
   "metadata": {},
   "outputs": [
    {
     "data": {
      "text/plain": [
       "no fault                        0.300852\n",
       "3 phase fault                   0.283552\n",
       "double phase to ground fault    0.144256\n",
       "single phase to ground fault    0.143620\n",
       "double phase fault              0.127719\n",
       "Name: fault_class, dtype: float64"
      ]
     },
     "execution_count": 192,
     "metadata": {},
     "output_type": "execute_result"
    }
   ],
   "source": [
    "df['fault_class'].value_counts()/7861 #to find the percentage of each type of fault"
   ]
  },
  {
   "cell_type": "code",
   "execution_count": 201,
   "id": "going-robin",
   "metadata": {},
   "outputs": [],
   "source": [
    "df = df[df.fault_class != 'no fault']#dropping the rows where the fault class shows that there is no fualt\n",
    "df.drop(columns = ['G', 'C', 'B', 'A'], axis = 1, inplace = True) #dropping the first 4 columns since they are already utilized"
   ]
  },
  {
   "cell_type": "markdown",
   "id": "monthly-assets",
   "metadata": {},
   "source": [
    "## What are the most common type of fault?"
   ]
  },
  {
   "cell_type": "code",
   "execution_count": 202,
   "id": "inner-unknown",
   "metadata": {},
   "outputs": [
    {
     "data": {
      "text/plain": [
       "3 phase fault                   0.405568\n",
       "double phase to ground fault    0.206332\n",
       "single phase to ground fault    0.205422\n",
       "double phase fault              0.182678\n",
       "Name: fault_class, dtype: float64"
      ]
     },
     "execution_count": 202,
     "metadata": {},
     "output_type": "execute_result"
    }
   ],
   "source": [
    "df['fault_class'].value_counts()/len(df['fault_class']) #percentage of each type of fault after droppinf the no fault value"
   ]
  },
  {
   "cell_type": "code",
   "execution_count": 203,
   "id": "computational-paintball",
   "metadata": {},
   "outputs": [
    {
     "data": {
      "text/plain": [
       "<AxesSubplot:>"
      ]
     },
     "execution_count": 203,
     "metadata": {},
     "output_type": "execute_result"
    },
    {
     "data": {
      "image/png": "[encoded data removed]",
      "text/plain": [
       "<Figure size 432x288 with 1 Axes>"
      ]
     },
     "metadata": {
      "needs_background": "light"
     },
     "output_type": "display_data"
    }
   ],
   "source": [
    "df['fault_class'].value_counts().plot(kind='bar')"
   ]
  },
  {
   "cell_type": "markdown",
   "id": "adjacent-student",
   "metadata": {},
   "source": [
    "## What are the voltage and current values epected for the most occuring type of fault?"
   ]
  },
  {
   "cell_type": "code",
   "execution_count": 198,
   "id": "legislative-bidder",
   "metadata": {},
   "outputs": [],
   "source": [
    "df3= df[df['fault_class'] == '3 phase fault']"
   ]
  },
  {
   "cell_type": "code",
   "execution_count": 173,
   "id": "artistic-monroe",
   "metadata": {},
   "outputs": [
    {
     "data": {
      "image/png": "[encoded data removed]",
      "text/plain": [
       "<Figure size 432x288 with 1 Axes>"
      ]
     },
     "metadata": {
      "needs_background": "light"
     },
     "output_type": "display_data"
    }
   ],
   "source": [
    "plt.hist(df3.Ia);"
   ]
  },
  {
   "cell_type": "code",
   "execution_count": 174,
   "id": "fatty-label",
   "metadata": {},
   "outputs": [
    {
     "data": {
      "image/png": "[encoded data removed]",
      "text/plain": [
       "<Figure size 432x288 with 1 Axes>"
      ]
     },
     "metadata": {
      "needs_background": "light"
     },
     "output_type": "display_data"
    }
   ],
   "source": [
    "plt.hist(df3.Ib);"
   ]
  },
  {
   "cell_type": "code",
   "execution_count": 175,
   "id": "atmospheric-wrong",
   "metadata": {},
   "outputs": [
    {
     "data": {
      "image/png": "[encoded data removed]",
      "text/plain": [
       "<Figure size 432x288 with 1 Axes>"
      ]
     },
     "metadata": {
      "needs_background": "light"
     },
     "output_type": "display_data"
    }
   ],
   "source": [
    "plt.hist(df3.Ic);"
   ]
  },
  {
   "cell_type": "code",
   "execution_count": 176,
   "id": "superior-smell",
   "metadata": {},
   "outputs": [
    {
     "data": {
      "image/png": "[encoded data removed]",
      "text/plain": [
       "<Figure size 432x288 with 1 Axes>"
      ]
     },
     "metadata": {
      "needs_background": "light"
     },
     "output_type": "display_data"
    }
   ],
   "source": [
    "plt.hist(df3.Va);"
   ]
  },
  {
   "cell_type": "code",
   "execution_count": 177,
   "id": "multiple-victory",
   "metadata": {},
   "outputs": [
    {
     "data": {
      "image/png": "[encoded data removed]",
      "text/plain": [
       "<Figure size 432x288 with 1 Axes>"
      ]
     },
     "metadata": {
      "needs_background": "light"
     },
     "output_type": "display_data"
    }
   ],
   "source": [
    "plt.hist(df3.Vb);"
   ]
  },
  {
   "cell_type": "code",
   "execution_count": 178,
   "id": "coastal-commonwealth",
   "metadata": {},
   "outputs": [
    {
     "data": {
      "image/png": "[encoded data removed]",
      "text/plain": [
       "<Figure size 432x288 with 1 Axes>"
      ]
     },
     "metadata": {
      "needs_background": "light"
     },
     "output_type": "display_data"
    }
   ],
   "source": [
    "plt.hist(df3.Vc);"
   ]
  },
  {
   "cell_type": "markdown",
   "id": "express-account",
   "metadata": {},
   "source": [
    "## Which electrical phase has the highest numbers of electrical faults in line to ground fault type?"
   ]
  },
  {
   "cell_type": "code",
   "execution_count": 149,
   "id": "piano-laugh",
   "metadata": {},
   "outputs": [],
   "source": [
    "df_LG = df[df['fault_class']=='single phase to ground fault']"
   ]
  },
  {
   "cell_type": "code",
   "execution_count": 159,
   "id": "administrative-split",
   "metadata": {},
   "outputs": [
    {
     "data": {
      "text/plain": [
       "Fault_Code\n",
       "1001    1129\n",
       "Name: Fault_Code, dtype: int64"
      ]
     },
     "execution_count": 159,
     "metadata": {},
     "output_type": "execute_result"
    }
   ],
   "source": [
    "df_LG.groupby('Fault_Code')['Fault_Code'].count()"
   ]
  },
  {
   "cell_type": "code",
   "execution_count": 58,
   "id": "expressed-force",
   "metadata": {},
   "outputs": [],
   "source": [
    "from sklearn.tree import DecisionTreeClassifier\n",
    "from sklearn import metrics\n",
    "from sklearn.model_selection import train_test_split"
   ]
  },
  {
   "cell_type": "code",
   "execution_count": 128,
   "id": "listed-backing",
   "metadata": {},
   "outputs": [],
   "source": [
    "X = df.iloc[:, :-2]\n",
    "y = df.iloc[:, -1]"
   ]
  },
  {
   "cell_type": "code",
   "execution_count": 129,
   "id": "alone-password",
   "metadata": {},
   "outputs": [
    {
     "data": {
      "text/plain": [
       "DecisionTreeClassifier()"
      ]
     },
     "execution_count": 129,
     "metadata": {},
     "output_type": "execute_result"
    }
   ],
   "source": [
    "X_train, X_test, y_train, y_test = train_test_split(X, y, test_size = 0.2, random_state = 42)\n",
    "\n",
    "clf = DecisionTreeClassifier()\n",
    "clf.fit(X_train, y_train) #bulding ML algorithem for fault detecting"
   ]
  },
  {
   "cell_type": "code",
   "execution_count": 130,
   "id": "raised-mumbai",
   "metadata": {},
   "outputs": [],
   "source": [
    "y_pred = clf.predict(X_test) #prediction of new set"
   ]
  },
  {
   "cell_type": "code",
   "execution_count": 72,
   "id": "auburn-wealth",
   "metadata": {},
   "outputs": [],
   "source": [
    "from sklearn.metrics import accuracy_score, recall_score, precision_score, f1_score"
   ]
  },
  {
   "cell_type": "code",
   "execution_count": 131,
   "id": "incomplete-vietnam",
   "metadata": {},
   "outputs": [],
   "source": [
    "A = accuracy_score(y_test, y_pred)\n",
    "R = recall_score(y_test, y_pred, average='weighted')\n",
    "P = precision_score(y_test, y_pred, average='weighted')\n",
    "F1 = f1_score(y_test, y_pred, average = 'weighted')"
   ]
  },
  {
   "cell_type": "code",
   "execution_count": 132,
   "id": "structured-excerpt",
   "metadata": {},
   "outputs": [
    {
     "name": "stdout",
     "output_type": "stream",
     "text": [
      "Model accurecy is 0.9954545454545455 \n",
      "Model recall score 0.9954545454545455 \n",
      "Model precision is 0.9954749685798073 \n",
      "Model F1 score is 0.9954472411978643\n"
     ]
    }
   ],
   "source": [
    "print(f'Model accurecy is {A} \\nModel recall score {R} \\nModel precision is {P} \\nModel F1 score is {F1}')"
   ]
  }
 ],
 "metadata": {
  "kernelspec": {
   "display_name": "Python 3",
   "language": "python",
   "name": "python3"
  },
  "language_info": {
   "codemirror_mode": {
    "name": "ipython",
    "version": 3
   },
   "file_extension": ".py",
   "mimetype": "text/x-python",
   "name": "python",
   "nbconvert_exporter": "python",
   "pygments_lexer": "ipython3",
   "version": "3.8.8"
  }
 },
 "nbformat": 4,
 "nbformat_minor": 5
}
